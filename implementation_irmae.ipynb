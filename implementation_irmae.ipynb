{
 "cells": [
  {
   "cell_type": "markdown",
   "metadata": {
    "id": "Kybw40OmzGWV"
   },
   "source": [
    "Implicit Rank-Minimizing Autoencoder\n",
    "======\n",
    "Li Jing, Jure Zbontar and Yann LeCun\n",
    "\n",
    "Paper Link - https://arxiv.org/abs/2010.00679 \n",
    "\n",
    "Brief Abstract : \\\n",
    "The authors show that the rank of the covariance matrix of the latent space is implicitly minimized by inserting a few extra linear layers at the output of the encoder. They rely on the fact that gradient descent learning in multi-layer linear networks leads to low-rank solutions. They call the proposed method as IRMAE and show its validity on several tasks by inspecting the rank of the covariance matrix of the latent space evaluated on the latent representations of the test set.\n",
    "\n",
    "Accompanying Blog post link :- https://dibyadas.github.io/posts/9th"
   ]
  },
  {
   "cell_type": "code",
   "execution_count": null,
   "metadata": {
    "id": "1-6tzN5AzGWd"
   },
   "outputs": [],
   "source": [
    "%matplotlib inline\n",
    "import os\n",
    "\n",
    "import torch\n",
    "import torch.nn as nn\n",
    "import torch.nn.functional as F"
   ]
  },
  {
   "cell_type": "markdown",
   "metadata": {
    "id": "ZmFVydyCzGXG"
   },
   "source": [
    "Parameter Settings\n",
    "-------------------\n"
   ]
  },
  {
   "cell_type": "code",
   "execution_count": null,
   "metadata": {
    "id": "DjKrJPzHzGXV"
   },
   "outputs": [],
   "source": [
    "latent_dims = 128\n",
    "num_epochs = 50\n",
    "batch_size = 128\n",
    "capacity = 24\n",
    "learning_rate = 1e-3\n",
    "use_gpu = True"
   ]
  },
  {
   "cell_type": "markdown",
   "metadata": {
    "id": "McnDqHY1zGX0"
   },
   "source": [
    "Results on MNIST\n",
    "-------------------\n",
    "\n",
    "In the paper, they have used a latent dimension of 128 and number of linear layers at the end of encoder as 8"
   ]
  },
  {
   "cell_type": "code",
   "execution_count": null,
   "metadata": {
    "colab": {
     "base_uri": "https://localhost:8080/",
     "height": 373,
     "referenced_widgets": [
      "61bd7d6ad3eb45f79e738d1dcf6f41c7",
      "1fe7bab411e944f98a7560d302f7dde6",
      "0906d27866d7403c91109ab4428e3d7b",
      "2e4fc693ad6c4acca1c33ae7cb0a8a7a",
      "9d5fb9db67804a29b71f642fc4498daa",
      "92448b7cc80e4164b6e9412d50307321",
      "a3c881e44f154ac9b89f362c1172e268",
      "f2d543e17f3b43b08d5304d017db10c2",
      "cb20437f5c794eb9baa6491c51357707",
      "796064a7bf094957b36bdbd3dd815904",
      "c8384a2043f84b7c8ef1ac01cdb0e03f",
      "15b04f0fa4d146608b1d41b2a4217199",
      "fdc23a2ee7094379a1db41dc962fa9f9",
      "a9d78ab5f10545d1a8c5a42b26bc5055",
      "06ea5ab863de41dc8099066da58c59d5",
      "2ea20c9f4ca14152b4bf6fdeb6ab7435",
      "9cde882ca3b44285869cd632bd8c1838",
      "7aa9abc8fb6d47e8bd34ac0652a1329f",
      "539787bb7865462a8de18b7f12ee2916",
      "115bda2d481f4150a0c4559afe6d9700",
      "45de909d18b14603805e1d382a51b578",
      "0d7c8350e65f4467ab3a9ccc93574aff",
      "8fb5d4e6dedb402eac1606a7798593a8",
      "ffe2f31830764fdc88cf3371fd641e9f",
      "b9c98451e9bf44cbba7739d21297ff74",
      "1ce8282bba0445da8124f0bbce8e4385",
      "47b0f7485d524bdbb7c40c43b504ddf3",
      "40adaaaeba9d4df4892cf36ec31ba998",
      "9688d8a98a884ab48b0ca0e91c5d8fda",
      "da9f6ee5ef594b6086b75add575526bf",
      "def2131908884fcb921686e82b0a70c2",
      "84e9f420c3344080b3c3bb04deefbe3c"
     ]
    },
    "id": "vxIgGaS5zGX8",
    "outputId": "49a19616-f53f-45af-9eee-4c802f9a96c5"
   },
   "outputs": [],
   "source": [
    "import torchvision.transforms as transforms\n",
    "from torch.utils.data import DataLoader\n",
    "from torchvision.datasets import MNIST\n",
    "\n",
    "img_transform = transforms.Compose([\n",
    "    transforms.ToTensor(),\n",
    "    transforms.Normalize((0.5,), (0.5,))\n",
    "])\n",
    "\n",
    "train_dataset = MNIST(root='./data/MNIST', download=True, train=True, transform=img_transform)\n",
    "train_dataloader = DataLoader(train_dataset, batch_size=batch_size, shuffle=True)\n",
    "\n",
    "test_dataset = MNIST(root='./data/MNIST', download=True, train=False, transform=img_transform)\n",
    "test_dataloader = DataLoader(test_dataset, batch_size=batch_size, shuffle=True)"
   ]
  },
  {
   "cell_type": "markdown",
   "metadata": {
    "id": "NDM1UfsWzGYX"
   },
   "source": [
    "Autoencoder Definition\n",
    "-----------------------\n",
    "\n"
   ]
  },
  {
   "cell_type": "code",
   "execution_count": null,
   "metadata": {
    "id": "dlGCn5LVzGYd"
   },
   "outputs": [],
   "source": [
    "class Encoder(nn.Module):\n",
    "    def __init__(self):\n",
    "        super(Encoder, self).__init__()\n",
    "        c = capacity\n",
    "        self.conv1 = nn.Conv2d(in_channels=1, out_channels=c, kernel_size=4, stride=2, padding=1) # out: c x 14 x 14\n",
    "        self.conv2 = nn.Conv2d(in_channels=c, out_channels=c*2, kernel_size=4, stride=2, padding=1) # out: c x 7 x 7\n",
    "        self.conv3 = nn.Conv2d(in_channels=c*2, out_channels=c, kernel_size=1) # out: c x 7 x 7\n",
    "        self.fc = nn.Linear(in_features=c*7*7, out_features=latent_dims)\n",
    "        \n",
    "    def forward(self, x):\n",
    "        x = F.relu(self.conv1(x))\n",
    "        x = F.relu(self.conv2(x))\n",
    "        x = F.relu(self.conv3(x))\n",
    "        x = x.view(x.size(0), -1) # flatten batch of multi-channel feature maps to a batch of feature vectors\n",
    "        x = self.fc(x)\n",
    "        \n",
    "        return x\n",
    "        "
   ]
  },
  {
   "cell_type": "markdown",
   "metadata": {
    "id": "VozVpCY2TGcw"
   },
   "source": [
    "The following module is the key difference between vanilla autoencoders and IRMAE. Apart from the showing the effect of linear layers, I have also added methods for ablation study as mentioned in the paper.\n",
    "\n",
    "* **Linear** : $l$ number of linear layers after the output of the encoder.\n",
    "* **Weight Share** : Same as Linear except all of the linear layers share the same weight. Equivalent to evaluating $x$ on the same linear layer $l$ times. Using this results in a weakened regularization effect as compared to Linear.\n",
    "* **Fixed** : Same as Linear but all of the layers are fixed weights. This will show that the results are due to learning dynamics instead of the architechture.\n",
    "* **Non Linear** : $l$ linear layers but with ReLU activations in-between them which is equivalent to a deeper encoder. This will show that the results are not due to deeper architecture.\n"
   ]
  },
  {
   "cell_type": "code",
   "execution_count": null,
   "metadata": {
    "id": "Mw_E1VgMVeUb"
   },
   "outputs": [],
   "source": [
    "class LNN(nn.Module):\n",
    "    def __init__(self, num_of_linear_layers, type):\n",
    "        self.num_of_linear_layers = num_of_linear_layers\n",
    "        super(LNN, self).__init__()\n",
    "\n",
    "        if type == \"linear\":\n",
    "            self.linear_layer = nn.ModuleList([nn.Linear(in_features=latent_dims, out_features=latent_dims) for _ in range(num_of_linear_layers)])\n",
    "            self.forward = self.forward_linear\n",
    "\n",
    "        if type == \"weight_share\":\n",
    "            self.linear_layer = nn.Linear(in_features=latent_dims, out_features=latent_dims)\n",
    "            self.forward = self.forward_weight_share\n",
    "\n",
    "        if type == \"fixed\":\n",
    "            self.linear_layer = nn.ModuleList([nn.Linear(in_features=latent_dims, out_features=latent_dims) for _ in range(num_of_linear_layers)])\n",
    "            for layer in self.linear_layer:\n",
    "                for param in layer.parameters():\n",
    "                    param.requires_grad = False\n",
    "            self.forward = self.forward_fixed\n",
    "\n",
    "        if type == \"nonlinear\":\n",
    "            self.linear_layer = nn.ModuleList([nn.Linear(in_features=latent_dims, out_features=latent_dims) for _ in range(num_of_linear_layers)])\n",
    "            self.forward = self.forward_nonlinear\n",
    "        \n",
    "    def forward_linear(self, x):\n",
    "        for layer in self.linear_layer:\n",
    "            x = layer(x)\n",
    "        return x\n",
    "\n",
    "    def forward_weight_share(self, x):\n",
    "        for _ in range(self.num_of_linear_layers):\n",
    "            x = self.linear_layer(x)\n",
    "        return x\n",
    "    \n",
    "    def forward_fixed(self, x):\n",
    "        for layer in self.linear_layer:\n",
    "            x = layer(x)\n",
    "        return x\n",
    "    \n",
    "    def forward_nonlinear(self, x):\n",
    "        for layer in self.linear_layer:\n",
    "            x = F.relu(layer(x))\n",
    "        return x"
   ]
  },
  {
   "cell_type": "code",
   "execution_count": null,
   "metadata": {
    "id": "S_YrIGLGVUen"
   },
   "outputs": [],
   "source": [
    "class Decoder(nn.Module):\n",
    "    def __init__(self):\n",
    "        super(Decoder, self).__init__()\n",
    "        c = capacity\n",
    "        self.fc = nn.Linear(in_features=latent_dims, out_features=c*7*7)\n",
    "        self.conv3 = nn.ConvTranspose2d(in_channels=c, out_channels=c*2, kernel_size=1)\n",
    "        self.conv2 = nn.ConvTranspose2d(in_channels=c*2, out_channels=c, kernel_size=4, stride=2, padding=1)\n",
    "        self.conv1 = nn.ConvTranspose2d(in_channels=c, out_channels=1, kernel_size=4, stride=2, padding=1)\n",
    "        \n",
    "            \n",
    "    def forward(self, x):\n",
    "        x = self.fc(x)\n",
    "        x = x.view(x.size(0), capacity, 7, 7) # unflatten batch of feature vectors to a batch of multi-channel feature maps\n",
    "        x = F.relu(self.conv3(x))\n",
    "        x = F.relu(self.conv2(x))\n",
    "        x = torch.tanh(self.conv1(x)) # last layer before output is tanh, since the images are normalized and 0-centered\n",
    "        return x"
   ]
  },
  {
   "cell_type": "code",
   "execution_count": null,
   "metadata": {
    "id": "iRcYwDQ6XPxn"
   },
   "outputs": [],
   "source": [
    "class Autoencoder(nn.Module):\n",
    "    def __init__(self, *args, **kwargs):\n",
    "        super(Autoencoder, self).__init__()\n",
    "        self.encoder = Encoder()\n",
    "        self.lnn = LNN(*args, **kwargs)\n",
    "        self.decoder = Decoder()\n",
    "    \n",
    "    def forward(self, x):\n",
    "        latent = self.encoder(x)\n",
    "        min_rank_latent = self.lnn(latent)\n",
    "        x_recon = self.decoder(min_rank_latent)\n",
    "        return x_recon"
   ]
  },
  {
   "cell_type": "code",
   "execution_count": null,
   "metadata": {
    "colab": {
     "base_uri": "https://localhost:8080/",
     "height": 34
    },
    "id": "si7FrvJJViaS",
    "outputId": "4a1040a7-8a72-4435-86c0-451290185bb8"
   },
   "outputs": [
    {
     "name": "stdout",
     "output_type": "stream",
     "text": [
      "Number of parameters: 474561\n"
     ]
    }
   ],
   "source": [
    "autoencoder = Autoencoder(8,'linear')\n",
    "\n",
    "device = torch.device(\"cuda:0\" if use_gpu and torch.cuda.is_available() else \"cpu\")\n",
    "autoencoder = autoencoder.to(device)\n",
    "\n",
    "num_params = sum(p.numel() for p in autoencoder.parameters() if p.requires_grad)\n",
    "print('Number of parameters: %d' % num_params)"
   ]
  },
  {
   "cell_type": "code",
   "execution_count": null,
   "metadata": {
    "colab": {
     "base_uri": "https://localhost:8080/",
     "height": 34
    },
    "id": "BnRrzyMKwyfc",
    "outputId": "d6ffa9da-04b0-498d-bbba-e803535fb3dd"
   },
   "outputs": [
    {
     "data": {
      "text/plain": [
       "torch.Size([128, 1, 28, 28])"
      ]
     },
     "execution_count": 53,
     "metadata": {
      "tags": []
     },
     "output_type": "execute_result"
    }
   ],
   "source": [
    "autoencoder(torch.rand(128,1,28,28).cuda()).shape"
   ]
  },
  {
   "cell_type": "markdown",
   "metadata": {
    "id": "8m5uyr4zzGY6"
   },
   "source": [
    "Train Autoencoder\n",
    "--------"
   ]
  },
  {
   "cell_type": "code",
   "execution_count": null,
   "metadata": {
    "id": "3nWKuIeiWKUK"
   },
   "outputs": [],
   "source": [
    "def train(layers=0, type=\"linear\", model=None, lr=1e-3, num_epochs=50):\n",
    "    print(lr)\n",
    "    if model == None:\n",
    "        autoencoder = Autoencoder(layers, type)\n",
    "    else:\n",
    "        autoencoder = model\n",
    "    \n",
    "    device = torch.device(\"cuda:0\" if use_gpu and torch.cuda.is_available() else \"cpu\")\n",
    "    autoencoder = autoencoder.to(device)\n",
    "    num_params = sum(p.numel() for p in autoencoder.parameters() if p.requires_grad)\n",
    "    print('Number of parameters: %d' % num_params)\n",
    "    optimizer = torch.optim.Adam(params=autoencoder.parameters(), lr=learning_rate)#, momentum=0.5)\n",
    "\n",
    "    # set to training mode\n",
    "    autoencoder.train()\n",
    "\n",
    "    train_loss_avg = []\n",
    "\n",
    "    print('Training ...')\n",
    "    for epoch in range(num_epochs):\n",
    "        train_loss_avg.append(0)\n",
    "        num_batches = 0\n",
    "        \n",
    "        for image_batch, _ in train_dataloader:\n",
    "            # print(image_batch.shape)\n",
    "            image_batch = image_batch.to(device)\n",
    "            \n",
    "            # autoencoder reconstruction\n",
    "            image_batch_recon = autoencoder(image_batch)\n",
    "            \n",
    "            # reconstruction error\n",
    "            loss = F.mse_loss(image_batch_recon, image_batch)\n",
    "            \n",
    "            # backpropagation\n",
    "            optimizer.zero_grad()\n",
    "            loss.backward()\n",
    "            \n",
    "            # one step of the optmizer (using the gradients from backpropagation)\n",
    "            optimizer.step()\n",
    "            \n",
    "            train_loss_avg[-1] += loss.item()\n",
    "            num_batches += 1\n",
    "            \n",
    "        train_loss_avg[-1] /= num_batches\n",
    "        print('Epoch [%d / %d] average reconstruction error: %f' % (epoch+1, num_epochs, train_loss_avg[-1]))\n",
    "    return autoencoder, train_loss_avg"
   ]
  },
  {
   "cell_type": "code",
   "execution_count": null,
   "metadata": {
    "id": "5CLL_MhfyPty"
   },
   "outputs": [],
   "source": [
    "capacity = 24"
   ]
  },
  {
   "cell_type": "code",
   "execution_count": null,
   "metadata": {
    "colab": {
     "base_uri": "https://localhost:8080/",
     "height": 937
    },
    "id": "-RoVRnIhKvkB",
    "outputId": "6c00f9a6-0d52-4ea7-86b4-89154c63ea7b"
   },
   "outputs": [
    {
     "name": "stdout",
     "output_type": "stream",
     "text": [
      "0.001\n",
      "Number of parameters: 342465\n",
      "Training ...\n",
      "Epoch [1 / 50] average reconstruction error: 0.110448\n",
      "Epoch [2 / 50] average reconstruction error: 0.019808\n",
      "Epoch [3 / 50] average reconstruction error: 0.013930\n",
      "Epoch [4 / 50] average reconstruction error: 0.011397\n",
      "Epoch [5 / 50] average reconstruction error: 0.009940\n",
      "Epoch [6 / 50] average reconstruction error: 0.008891\n",
      "Epoch [7 / 50] average reconstruction error: 0.008137\n",
      "Epoch [8 / 50] average reconstruction error: 0.007538\n",
      "Epoch [9 / 50] average reconstruction error: 0.007063\n",
      "Epoch [10 / 50] average reconstruction error: 0.006647\n",
      "Epoch [11 / 50] average reconstruction error: 0.006306\n",
      "Epoch [12 / 50] average reconstruction error: 0.005980\n",
      "Epoch [13 / 50] average reconstruction error: 0.005718\n",
      "Epoch [14 / 50] average reconstruction error: 0.005482\n",
      "Epoch [15 / 50] average reconstruction error: 0.005247\n",
      "Epoch [16 / 50] average reconstruction error: 0.005058\n",
      "Epoch [17 / 50] average reconstruction error: 0.004863\n",
      "Epoch [18 / 50] average reconstruction error: 0.004737\n",
      "Epoch [19 / 50] average reconstruction error: 0.004562\n",
      "Epoch [20 / 50] average reconstruction error: 0.004440\n",
      "Epoch [21 / 50] average reconstruction error: 0.004301\n",
      "Epoch [22 / 50] average reconstruction error: 0.004171\n",
      "Epoch [23 / 50] average reconstruction error: 0.004081\n",
      "Epoch [24 / 50] average reconstruction error: 0.003955\n",
      "Epoch [25 / 50] average reconstruction error: 0.003880\n",
      "Epoch [26 / 50] average reconstruction error: 0.003778\n",
      "Epoch [27 / 50] average reconstruction error: 0.003708\n",
      "Epoch [28 / 50] average reconstruction error: 0.003624\n",
      "Epoch [29 / 50] average reconstruction error: 0.003561\n",
      "Epoch [30 / 50] average reconstruction error: 0.003509\n",
      "Epoch [31 / 50] average reconstruction error: 0.003428\n",
      "Epoch [32 / 50] average reconstruction error: 0.003404\n",
      "Epoch [33 / 50] average reconstruction error: 0.003317\n",
      "Epoch [34 / 50] average reconstruction error: 0.003286\n",
      "Epoch [35 / 50] average reconstruction error: 0.003236\n",
      "Epoch [36 / 50] average reconstruction error: 0.003195\n",
      "Epoch [37 / 50] average reconstruction error: 0.003172\n",
      "Epoch [38 / 50] average reconstruction error: 0.003119\n",
      "Epoch [39 / 50] average reconstruction error: 0.003084\n",
      "Epoch [40 / 50] average reconstruction error: 0.003061\n",
      "Epoch [41 / 50] average reconstruction error: 0.003022\n",
      "Epoch [42 / 50] average reconstruction error: 0.003002\n",
      "Epoch [43 / 50] average reconstruction error: 0.002965\n",
      "Epoch [44 / 50] average reconstruction error: 0.002937\n",
      "Epoch [45 / 50] average reconstruction error: 0.002908\n",
      "Epoch [46 / 50] average reconstruction error: 0.002895\n",
      "Epoch [47 / 50] average reconstruction error: 0.002864\n",
      "Epoch [48 / 50] average reconstruction error: 0.002843\n",
      "Epoch [49 / 50] average reconstruction error: 0.002823\n",
      "Epoch [50 / 50] average reconstruction error: 0.002801\n"
     ]
    }
   ],
   "source": [
    "standard_ae, standard_ae_train_loss_avg = train(0, 'linear', num_epochs=50)"
   ]
  },
  {
   "cell_type": "code",
   "execution_count": null,
   "metadata": {
    "colab": {
     "base_uri": "https://localhost:8080/",
     "height": 312
    },
    "id": "Cz-iHBtxPoyt",
    "outputId": "a9407431-7095-45bb-e8ab-3aa54fa716b1"
   },
   "outputs": [
    {
     "data": {
      "text/plain": [
       "Autoencoder(\n",
       "  (encoder): Encoder(\n",
       "    (conv1): Conv2d(1, 24, kernel_size=(4, 4), stride=(2, 2), padding=(1, 1))\n",
       "    (conv2): Conv2d(24, 48, kernel_size=(4, 4), stride=(2, 2), padding=(1, 1))\n",
       "    (conv3): Conv2d(48, 24, kernel_size=(1, 1), stride=(1, 1))\n",
       "    (fc): Linear(in_features=1176, out_features=128, bias=True)\n",
       "  )\n",
       "  (lnn): LNN(\n",
       "    (linear_layer): ModuleList()\n",
       "  )\n",
       "  (decoder): Decoder(\n",
       "    (fc): Linear(in_features=128, out_features=1176, bias=True)\n",
       "    (conv3): ConvTranspose2d(24, 48, kernel_size=(1, 1), stride=(1, 1))\n",
       "    (conv2): ConvTranspose2d(48, 24, kernel_size=(4, 4), stride=(2, 2), padding=(1, 1))\n",
       "    (conv1): ConvTranspose2d(24, 1, kernel_size=(4, 4), stride=(2, 2), padding=(1, 1))\n",
       "  )\n",
       ")"
      ]
     },
     "execution_count": 111,
     "metadata": {
      "tags": []
     },
     "output_type": "execute_result"
    }
   ],
   "source": [
    "standard_ae"
   ]
  },
  {
   "cell_type": "code",
   "execution_count": null,
   "metadata": {
    "colab": {
     "base_uri": "https://localhost:8080/",
     "height": 937
    },
    "id": "CmhpwAYfWZqN",
    "outputId": "d993fd1e-cc99-4727-af4b-1fcd6ff31a6e"
   },
   "outputs": [
    {
     "name": "stdout",
     "output_type": "stream",
     "text": [
      "0.01\n",
      "Number of parameters: 474561\n",
      "Training ...\n",
      "Epoch [1 / 50] average reconstruction error: 0.246715\n",
      "Epoch [2 / 50] average reconstruction error: 0.159109\n",
      "Epoch [3 / 50] average reconstruction error: 0.124943\n",
      "Epoch [4 / 50] average reconstruction error: 0.109814\n",
      "Epoch [5 / 50] average reconstruction error: 0.098878\n",
      "Epoch [6 / 50] average reconstruction error: 0.091680\n",
      "Epoch [7 / 50] average reconstruction error: 0.086213\n",
      "Epoch [8 / 50] average reconstruction error: 0.080563\n",
      "Epoch [9 / 50] average reconstruction error: 0.076581\n",
      "Epoch [10 / 50] average reconstruction error: 0.072397\n",
      "Epoch [11 / 50] average reconstruction error: 0.068905\n",
      "Epoch [12 / 50] average reconstruction error: 0.066495\n",
      "Epoch [13 / 50] average reconstruction error: 0.063993\n",
      "Epoch [14 / 50] average reconstruction error: 0.062099\n",
      "Epoch [15 / 50] average reconstruction error: 0.060293\n",
      "Epoch [16 / 50] average reconstruction error: 0.058733\n",
      "Epoch [17 / 50] average reconstruction error: 0.056459\n",
      "Epoch [18 / 50] average reconstruction error: 0.054171\n",
      "Epoch [19 / 50] average reconstruction error: 0.052362\n",
      "Epoch [20 / 50] average reconstruction error: 0.050353\n",
      "Epoch [21 / 50] average reconstruction error: 0.048799\n",
      "Epoch [22 / 50] average reconstruction error: 0.047528\n",
      "Epoch [23 / 50] average reconstruction error: 0.045720\n",
      "Epoch [24 / 50] average reconstruction error: 0.044467\n",
      "Epoch [25 / 50] average reconstruction error: 0.043502\n",
      "Epoch [26 / 50] average reconstruction error: 0.042650\n",
      "Epoch [27 / 50] average reconstruction error: 0.041715\n",
      "Epoch [28 / 50] average reconstruction error: 0.040814\n",
      "Epoch [29 / 50] average reconstruction error: 0.040104\n",
      "Epoch [30 / 50] average reconstruction error: 0.039150\n",
      "Epoch [31 / 50] average reconstruction error: 0.038654\n",
      "Epoch [32 / 50] average reconstruction error: 0.037601\n",
      "Epoch [33 / 50] average reconstruction error: 0.036893\n",
      "Epoch [34 / 50] average reconstruction error: 0.036422\n",
      "Epoch [35 / 50] average reconstruction error: 0.036025\n",
      "Epoch [36 / 50] average reconstruction error: 0.035455\n",
      "Epoch [37 / 50] average reconstruction error: 0.035115\n",
      "Epoch [38 / 50] average reconstruction error: 0.034778\n",
      "Epoch [39 / 50] average reconstruction error: 0.034363\n",
      "Epoch [40 / 50] average reconstruction error: 0.033912\n",
      "Epoch [41 / 50] average reconstruction error: 0.033490\n",
      "Epoch [42 / 50] average reconstruction error: 0.033102\n",
      "Epoch [43 / 50] average reconstruction error: 0.032558\n",
      "Epoch [44 / 50] average reconstruction error: 0.032187\n",
      "Epoch [45 / 50] average reconstruction error: 0.031510\n",
      "Epoch [46 / 50] average reconstruction error: 0.031088\n",
      "Epoch [47 / 50] average reconstruction error: 0.030793\n",
      "Epoch [48 / 50] average reconstruction error: 0.030545\n",
      "Epoch [49 / 50] average reconstruction error: 0.030320\n",
      "Epoch [50 / 50] average reconstruction error: 0.030080\n"
     ]
    }
   ],
   "source": [
    "linear_irmae, linear_train_loss_avg = train(layers=8, type='linear',lr=1e-2,num_epochs=50)\n",
    "# linear_irmae, linear_train_loss_avg = train(model=linear_irmae, lr=4*1e-3, num_epochs=50)"
   ]
  },
  {
   "cell_type": "code",
   "execution_count": null,
   "metadata": {
    "colab": {
     "base_uri": "https://localhost:8080/",
     "height": 937
    },
    "id": "boLD6UOItrfM",
    "outputId": "8d995a97-650f-40ab-d00c-8e73a4ad6bac"
   },
   "outputs": [
    {
     "name": "stdout",
     "output_type": "stream",
     "text": [
      "0.001\n",
      "Number of parameters: 358977\n",
      "Training ...\n",
      "Epoch [1 / 50] average reconstruction error: 0.233443\n",
      "Epoch [2 / 50] average reconstruction error: 0.153781\n",
      "Epoch [3 / 50] average reconstruction error: 0.131630\n",
      "Epoch [4 / 50] average reconstruction error: 0.118210\n",
      "Epoch [5 / 50] average reconstruction error: 0.113623\n",
      "Epoch [6 / 50] average reconstruction error: 0.100617\n",
      "Epoch [7 / 50] average reconstruction error: 0.087459\n",
      "Epoch [8 / 50] average reconstruction error: 0.072516\n",
      "Epoch [9 / 50] average reconstruction error: 0.068098\n",
      "Epoch [10 / 50] average reconstruction error: 0.065520\n",
      "Epoch [11 / 50] average reconstruction error: 0.061214\n",
      "Epoch [12 / 50] average reconstruction error: 0.057911\n",
      "Epoch [13 / 50] average reconstruction error: 0.050897\n",
      "Epoch [14 / 50] average reconstruction error: 0.047932\n",
      "Epoch [15 / 50] average reconstruction error: 0.045667\n",
      "Epoch [16 / 50] average reconstruction error: 0.042670\n",
      "Epoch [17 / 50] average reconstruction error: 0.040211\n",
      "Epoch [18 / 50] average reconstruction error: 0.038957\n",
      "Epoch [19 / 50] average reconstruction error: 0.037915\n",
      "Epoch [20 / 50] average reconstruction error: 0.036568\n",
      "Epoch [21 / 50] average reconstruction error: 0.035710\n",
      "Epoch [22 / 50] average reconstruction error: 0.034981\n",
      "Epoch [23 / 50] average reconstruction error: 0.033912\n",
      "Epoch [24 / 50] average reconstruction error: 0.032561\n",
      "Epoch [25 / 50] average reconstruction error: 0.031541\n",
      "Epoch [26 / 50] average reconstruction error: 0.030816\n",
      "Epoch [27 / 50] average reconstruction error: 0.030286\n",
      "Epoch [28 / 50] average reconstruction error: 0.029994\n",
      "Epoch [29 / 50] average reconstruction error: 0.029653\n",
      "Epoch [30 / 50] average reconstruction error: 0.029406\n",
      "Epoch [31 / 50] average reconstruction error: 0.029058\n",
      "Epoch [32 / 50] average reconstruction error: 0.028333\n",
      "Epoch [33 / 50] average reconstruction error: 0.026920\n",
      "Epoch [34 / 50] average reconstruction error: 0.025531\n",
      "Epoch [35 / 50] average reconstruction error: 0.024547\n",
      "Epoch [36 / 50] average reconstruction error: 0.024033\n",
      "Epoch [37 / 50] average reconstruction error: 0.023541\n",
      "Epoch [38 / 50] average reconstruction error: 0.023330\n",
      "Epoch [39 / 50] average reconstruction error: 0.023016\n",
      "Epoch [40 / 50] average reconstruction error: 0.022799\n",
      "Epoch [41 / 50] average reconstruction error: 0.022537\n",
      "Epoch [42 / 50] average reconstruction error: 0.022408\n",
      "Epoch [43 / 50] average reconstruction error: 0.022231\n",
      "Epoch [44 / 50] average reconstruction error: 0.022074\n",
      "Epoch [45 / 50] average reconstruction error: 0.021790\n",
      "Epoch [46 / 50] average reconstruction error: 0.021300\n",
      "Epoch [47 / 50] average reconstruction error: 0.020645\n",
      "Epoch [48 / 50] average reconstruction error: 0.020263\n",
      "Epoch [49 / 50] average reconstruction error: 0.019927\n",
      "Epoch [50 / 50] average reconstruction error: 0.019695\n"
     ]
    }
   ],
   "source": [
    "weight_share_irmae, weight_share_train_loss_avg = train(8, 'weight_share', num_epochs=50)"
   ]
  },
  {
   "cell_type": "code",
   "execution_count": null,
   "metadata": {
    "colab": {
     "base_uri": "https://localhost:8080/",
     "height": 937
    },
    "id": "MkHZ2j2it0zg",
    "outputId": "e410099c-1cee-4eb3-a74a-13c2a794b0e3"
   },
   "outputs": [
    {
     "name": "stdout",
     "output_type": "stream",
     "text": [
      "0.001\n",
      "Number of parameters: 342465\n",
      "Training ...\n",
      "Epoch [1 / 50] average reconstruction error: 0.177987\n",
      "Epoch [2 / 50] average reconstruction error: 0.055486\n",
      "Epoch [3 / 50] average reconstruction error: 0.041518\n",
      "Epoch [4 / 50] average reconstruction error: 0.033745\n",
      "Epoch [5 / 50] average reconstruction error: 0.029578\n",
      "Epoch [6 / 50] average reconstruction error: 0.026916\n",
      "Epoch [7 / 50] average reconstruction error: 0.024965\n",
      "Epoch [8 / 50] average reconstruction error: 0.023365\n",
      "Epoch [9 / 50] average reconstruction error: 0.021985\n",
      "Epoch [10 / 50] average reconstruction error: 0.020711\n",
      "Epoch [11 / 50] average reconstruction error: 0.019679\n",
      "Epoch [12 / 50] average reconstruction error: 0.018800\n",
      "Epoch [13 / 50] average reconstruction error: 0.018048\n",
      "Epoch [14 / 50] average reconstruction error: 0.017458\n",
      "Epoch [15 / 50] average reconstruction error: 0.016885\n",
      "Epoch [16 / 50] average reconstruction error: 0.016415\n",
      "Epoch [17 / 50] average reconstruction error: 0.015937\n",
      "Epoch [18 / 50] average reconstruction error: 0.015550\n",
      "Epoch [19 / 50] average reconstruction error: 0.015166\n",
      "Epoch [20 / 50] average reconstruction error: 0.014783\n",
      "Epoch [21 / 50] average reconstruction error: 0.014488\n",
      "Epoch [22 / 50] average reconstruction error: 0.014126\n",
      "Epoch [23 / 50] average reconstruction error: 0.013898\n",
      "Epoch [24 / 50] average reconstruction error: 0.013611\n",
      "Epoch [25 / 50] average reconstruction error: 0.013357\n",
      "Epoch [26 / 50] average reconstruction error: 0.013124\n",
      "Epoch [27 / 50] average reconstruction error: 0.012899\n",
      "Epoch [28 / 50] average reconstruction error: 0.012669\n",
      "Epoch [29 / 50] average reconstruction error: 0.012461\n",
      "Epoch [30 / 50] average reconstruction error: 0.012294\n",
      "Epoch [31 / 50] average reconstruction error: 0.012068\n",
      "Epoch [32 / 50] average reconstruction error: 0.011907\n",
      "Epoch [33 / 50] average reconstruction error: 0.011772\n",
      "Epoch [34 / 50] average reconstruction error: 0.011602\n",
      "Epoch [35 / 50] average reconstruction error: 0.011465\n",
      "Epoch [36 / 50] average reconstruction error: 0.011296\n",
      "Epoch [37 / 50] average reconstruction error: 0.011163\n",
      "Epoch [38 / 50] average reconstruction error: 0.011052\n",
      "Epoch [39 / 50] average reconstruction error: 0.010926\n",
      "Epoch [40 / 50] average reconstruction error: 0.010821\n",
      "Epoch [41 / 50] average reconstruction error: 0.010662\n",
      "Epoch [42 / 50] average reconstruction error: 0.010578\n",
      "Epoch [43 / 50] average reconstruction error: 0.010451\n",
      "Epoch [44 / 50] average reconstruction error: 0.010339\n",
      "Epoch [45 / 50] average reconstruction error: 0.010226\n",
      "Epoch [46 / 50] average reconstruction error: 0.010149\n",
      "Epoch [47 / 50] average reconstruction error: 0.010051\n",
      "Epoch [48 / 50] average reconstruction error: 0.009951\n",
      "Epoch [49 / 50] average reconstruction error: 0.009874\n",
      "Epoch [50 / 50] average reconstruction error: 0.009788\n"
     ]
    }
   ],
   "source": [
    "fixed_irmae, fixed_train_loss_avg = train(8, 'fixed', num_epochs=50)"
   ]
  },
  {
   "cell_type": "code",
   "execution_count": null,
   "metadata": {
    "colab": {
     "base_uri": "https://localhost:8080/",
     "height": 937
    },
    "id": "vRbuiT9Wtz3I",
    "outputId": "14480414-79c2-4fa0-886b-0dab14cb5335"
   },
   "outputs": [
    {
     "name": "stdout",
     "output_type": "stream",
     "text": [
      "0.001\n",
      "Number of parameters: 474561\n",
      "Training ...\n",
      "Epoch [1 / 50] average reconstruction error: 0.256205\n",
      "Epoch [2 / 50] average reconstruction error: 0.134872\n",
      "Epoch [3 / 50] average reconstruction error: 0.107586\n",
      "Epoch [4 / 50] average reconstruction error: 0.094427\n",
      "Epoch [5 / 50] average reconstruction error: 0.084518\n",
      "Epoch [6 / 50] average reconstruction error: 0.077581\n",
      "Epoch [7 / 50] average reconstruction error: 0.073627\n",
      "Epoch [8 / 50] average reconstruction error: 0.070722\n",
      "Epoch [9 / 50] average reconstruction error: 0.067436\n",
      "Epoch [10 / 50] average reconstruction error: 0.064352\n",
      "Epoch [11 / 50] average reconstruction error: 0.061777\n",
      "Epoch [12 / 50] average reconstruction error: 0.059331\n",
      "Epoch [13 / 50] average reconstruction error: 0.056452\n",
      "Epoch [14 / 50] average reconstruction error: 0.054408\n",
      "Epoch [15 / 50] average reconstruction error: 0.051995\n",
      "Epoch [16 / 50] average reconstruction error: 0.050461\n",
      "Epoch [17 / 50] average reconstruction error: 0.048666\n",
      "Epoch [18 / 50] average reconstruction error: 0.047309\n",
      "Epoch [19 / 50] average reconstruction error: 0.046401\n",
      "Epoch [20 / 50] average reconstruction error: 0.045500\n",
      "Epoch [21 / 50] average reconstruction error: 0.044649\n",
      "Epoch [22 / 50] average reconstruction error: 0.044083\n",
      "Epoch [23 / 50] average reconstruction error: 0.043271\n",
      "Epoch [24 / 50] average reconstruction error: 0.042559\n",
      "Epoch [25 / 50] average reconstruction error: 0.042163\n",
      "Epoch [26 / 50] average reconstruction error: 0.041301\n",
      "Epoch [27 / 50] average reconstruction error: 0.040159\n",
      "Epoch [28 / 50] average reconstruction error: 0.039528\n",
      "Epoch [29 / 50] average reconstruction error: 0.038779\n",
      "Epoch [30 / 50] average reconstruction error: 0.038199\n",
      "Epoch [31 / 50] average reconstruction error: 0.037740\n",
      "Epoch [32 / 50] average reconstruction error: 0.037266\n",
      "Epoch [33 / 50] average reconstruction error: 0.036543\n",
      "Epoch [34 / 50] average reconstruction error: 0.036235\n",
      "Epoch [35 / 50] average reconstruction error: 0.035640\n",
      "Epoch [36 / 50] average reconstruction error: 0.035289\n",
      "Epoch [37 / 50] average reconstruction error: 0.034583\n",
      "Epoch [38 / 50] average reconstruction error: 0.034171\n",
      "Epoch [39 / 50] average reconstruction error: 0.033893\n",
      "Epoch [40 / 50] average reconstruction error: 0.033523\n",
      "Epoch [41 / 50] average reconstruction error: 0.032817\n",
      "Epoch [42 / 50] average reconstruction error: 0.032454\n",
      "Epoch [43 / 50] average reconstruction error: 0.032163\n",
      "Epoch [44 / 50] average reconstruction error: 0.031716\n",
      "Epoch [45 / 50] average reconstruction error: 0.031335\n",
      "Epoch [46 / 50] average reconstruction error: 0.031017\n",
      "Epoch [47 / 50] average reconstruction error: 0.030629\n",
      "Epoch [48 / 50] average reconstruction error: 0.030390\n",
      "Epoch [49 / 50] average reconstruction error: 0.030157\n",
      "Epoch [50 / 50] average reconstruction error: 0.029663\n"
     ]
    }
   ],
   "source": [
    "non_linear_irmae, non_linear_train_loss_avg = train(8, 'nonlinear', num_epochs=50)"
   ]
  },
  {
   "cell_type": "markdown",
   "metadata": {
    "id": "pHjTowaUzGZe"
   },
   "source": [
    "Plot Training Curve\n",
    "--------------------"
   ]
  },
  {
   "cell_type": "code",
   "execution_count": null,
   "metadata": {
    "id": "q2PCMSqQzGZk"
   },
   "outputs": [],
   "source": [
    "import matplotlib.pyplot as plt\n",
    "plt.ion()"
   ]
  },
  {
   "cell_type": "code",
   "execution_count": null,
   "metadata": {
    "colab": {
     "base_uri": "https://localhost:8080/",
     "height": 296
    },
    "id": "WjN6SmXSaEEz",
    "outputId": "61df8529-62f6-4200-89eb-8f827657372d"
   },
   "outputs": [
    {
     "data": {
      "image/png": "[encoded data removed]",
      "text/plain": [
       "<Figure size 432x288 with 1 Axes>"
      ]
     },
     "metadata": {
      "needs_background": "light",
      "tags": []
     },
     "output_type": "display_data"
    },
    {
     "data": {
      "text/plain": [
       "<Figure size 432x288 with 0 Axes>"
      ]
     },
     "metadata": {
      "tags": []
     },
     "output_type": "display_data"
    }
   ],
   "source": [
    "\n",
    "fig = plt.figure()\n",
    "plt.plot(standard_ae_train_loss_avg, label=\"Standard\")\n",
    "plt.plot(linear_train_loss_avg, label=\"Linear\")\n",
    "plt.plot(fixed_train_loss_avg, label=\"Fixed\")\n",
    "plt.plot(weight_share_train_loss_avg, label=\"Weight Share\")\n",
    "plt.plot(non_linear_train_loss_avg, label=\"Non-Linear\")\n",
    "plt.legend(loc=\"upper right\")\n",
    "plt.xlabel('Epochs')\n",
    "plt.ylabel('Reconstruction error')\n",
    "plt.show()\n",
    "plt.savefig(\"train_plot.png\")"
   ]
  },
  {
   "cell_type": "markdown",
   "metadata": {
    "id": "mu2vljB5zGaU"
   },
   "source": [
    "Evaluate on the Test Set\n",
    "-------------------------"
   ]
  },
  {
   "cell_type": "code",
   "execution_count": null,
   "metadata": {
    "id": "oiUTRCyU4h90"
   },
   "outputs": [],
   "source": [
    "def get_singular_values(trained_irmae):\n",
    "    cov_latent = torch.zeros((latent_dims,latent_dims)).to(device)\n",
    "    trained_irmae.eval()\n",
    "    test_loss_avg, num_batches = 0, 0\n",
    "    for image_batch, _ in test_dataloader:\n",
    "        \n",
    "        with torch.no_grad():\n",
    "\n",
    "            image_batch = image_batch.to(device)\n",
    "\n",
    "            # autoencoder reconstruction\n",
    "            latent = trained_irmae.encoder(image_batch)\n",
    "            min_rank_latent = trained_irmae.lnn(latent)\n",
    "            cov_latent += min_rank_latent.T @ min_rank_latent\n",
    "            image_batch_recon = trained_irmae(image_batch)\n",
    "\n",
    "            # reconstruction error\n",
    "            loss = F.mse_loss(image_batch_recon, image_batch)\n",
    "\n",
    "            test_loss_avg += loss.item()\n",
    "            num_batches += 1\n",
    "        \n",
    "    test_loss_avg /= num_batches\n",
    "    print('average reconstruction error: %f' % (test_loss_avg))\n",
    "    _,d,_ = torch.svd(cov_latent)\n",
    "    return cov_latent, (d/d.max()).cpu()"
   ]
  },
  {
   "cell_type": "code",
   "execution_count": null,
   "metadata": {
    "colab": {
     "base_uri": "https://localhost:8080/",
     "height": 104
    },
    "id": "SSb86zZa5H35",
    "outputId": "5507efd8-713e-456c-cc27-5c436288a517"
   },
   "outputs": [
    {
     "name": "stdout",
     "output_type": "stream",
     "text": [
      "average reconstruction error: 0.002873\n",
      "average reconstruction error: 0.030684\n",
      "average reconstruction error: 0.020150\n",
      "average reconstruction error: 0.009760\n",
      "average reconstruction error: 0.031783\n"
     ]
    }
   ],
   "source": [
    "standard_cov, standard_ae_singular_values = get_singular_values(standard_ae)\n",
    "linear_cov, linear_singular_values = get_singular_values(linear_irmae)\n",
    "weight_share_cov, weight_share_singular_values = get_singular_values(weight_share_irmae)\n",
    "fixed_cov, fixed_singular_values = get_singular_values(fixed_irmae)\n",
    "non_linear_cov, non_linear_singular_values = get_singular_values(non_linear_irmae)"
   ]
  },
  {
   "cell_type": "code",
   "execution_count": null,
   "metadata": {
    "colab": {
     "base_uri": "https://localhost:8080/",
     "height": 34
    },
    "id": "Ip9CutPaZLAV",
    "outputId": "2408f0ac-e1f7-4e27-f003-a23ea9a11029"
   },
   "outputs": [
    {
     "data": {
      "text/plain": [
       "tensor(28, device='cuda:0')"
      ]
     },
     "execution_count": 115,
     "metadata": {
      "tags": []
     },
     "output_type": "execute_result"
    }
   ],
   "source": [
    "torch.matrix_rank(weight_share_cov)"
   ]
  },
  {
   "cell_type": "code",
   "execution_count": null,
   "metadata": {
    "colab": {
     "base_uri": "https://localhost:8080/",
     "height": 492
    },
    "id": "l7RHNqYRBgzP",
    "outputId": "76143b6e-9eeb-4428-dc5d-0c2b1e5223d1"
   },
   "outputs": [
    {
     "data": {
      "image/png": "[encoded data removed]",
      "text/plain": [
       "<Figure size 720x560 with 1 Axes>"
      ]
     },
     "metadata": {
      "tags": []
     },
     "output_type": "display_data"
    }
   ],
   "source": [
    "from matplotlib.pyplot import figure\n",
    "figure(num=None, figsize=(9, 7), dpi=80, facecolor='w', edgecolor='k')\n",
    "plt.plot(standard_ae_singular_values, label=f'Standard AE, Latent space dimension - {torch.matrix_rank(standard_cov)}')\n",
    "plt.plot(linear_singular_values, label=f'Linear, Latent space dimension - {torch.matrix_rank(linear_cov)}')\n",
    "plt.plot(weight_share_singular_values, label=f'Weight Share, Latent space dimension - {torch.matrix_rank(weight_share_cov)}')\n",
    "plt.plot(fixed_singular_values, label=f'Fixed, Latent space dimension - {torch.matrix_rank(fixed_cov)}')\n",
    "plt.plot(non_linear_singular_values, label=f'Non-Linear, Latent space dimension - {torch.matrix_rank(non_linear_cov)}')\n",
    "plt.ylabel('Singular Values')\n",
    "plt.xlabel('Singular Value Rank')\n",
    "plt.legend(loc=\"upper right\")\n",
    "plt.ylim(0,0.2)\n",
    "plt.savefig(\"from_2_all_singular.png\")"
   ]
  },
  {
   "cell_type": "markdown",
   "metadata": {
    "id": "YFElVRAwzGav"
   },
   "source": [
    "Visualize Reconstructions\n",
    "--------------------------"
   ]
  },
  {
   "cell_type": "code",
   "execution_count": null,
   "metadata": {
    "id": "x2RwM7N63xa9"
   },
   "outputs": [],
   "source": [
    "_,d,_ = torch.svd(cov_latent)"
   ]
  },
  {
   "cell_type": "code",
   "execution_count": null,
   "metadata": {
    "colab": {
     "base_uri": "https://localhost:8080/",
     "height": 282
    },
    "id": "r9nb_CMX33bW",
    "outputId": "08cd3958-d767-4b8c-a3a2-d090dade9790"
   },
   "outputs": [
    {
     "data": {
      "text/plain": [
       "[<matplotlib.lines.Line2D at 0x7f75c53d4eb8>]"
      ]
     },
     "execution_count": 180,
     "metadata": {
      "tags": []
     },
     "output_type": "execute_result"
    },
    {
     "data": {
      "image/png": "[encoded data removed]",
      "text/plain": [
       "<Figure size 432x288 with 1 Axes>"
      ]
     },
     "metadata": {
      "needs_background": "light",
      "tags": []
     },
     "output_type": "display_data"
    }
   ],
   "source": [
    "plt.plot((d/d.max()).cpu())"
   ]
  },
  {
   "cell_type": "code",
   "execution_count": null,
   "metadata": {
    "id": "0VVWBzmp8DAI"
   },
   "outputs": [],
   "source": [
    "autoencoder = non_linear_irmae"
   ]
  },
  {
   "cell_type": "code",
   "execution_count": null,
   "metadata": {
    "colab": {
     "base_uri": "https://localhost:8080/",
     "height": 460
    },
    "id": "nqHkVZ2VzGa1",
    "outputId": "704ba1f5-d591-42c3-b8a6-17477e63d225"
   },
   "outputs": [
    {
     "name": "stdout",
     "output_type": "stream",
     "text": [
      "Original images\n"
     ]
    },
    {
     "data": {
      "image/png": "[encoded data removed]",
      "text/plain": [
       "<Figure size 432x288 with 1 Axes>"
      ]
     },
     "metadata": {
      "needs_background": "light",
      "tags": []
     },
     "output_type": "display_data"
    },
    {
     "name": "stdout",
     "output_type": "stream",
     "text": [
      "Autoencoder reconstruction:\n"
     ]
    },
    {
     "data": {
      "image/png": "[encoded data removed]",
      "text/plain": [
       "<Figure size 432x288 with 1 Axes>"
      ]
     },
     "metadata": {
      "needs_background": "light",
      "tags": []
     },
     "output_type": "display_data"
    }
   ],
   "source": [
    "import numpy as np\n",
    "import matplotlib.pyplot as plt\n",
    "plt.ion()\n",
    "\n",
    "import torchvision.utils\n",
    "\n",
    "autoencoder.eval()\n",
    "\n",
    "# This function takes as an input the images to reconstruct\n",
    "# and the name of the model with which the reconstructions\n",
    "# are performed\n",
    "def to_img(x):\n",
    "    x = 0.5 * (x + 1)\n",
    "    x = x.clamp(0, 1)\n",
    "    return x\n",
    "\n",
    "def show_image(img):\n",
    "    img = to_img(img)\n",
    "    npimg = img.numpy()\n",
    "    plt.imshow(np.transpose(npimg, (1, 2, 0)))\n",
    "\n",
    "def visualise_output(images, model):\n",
    "\n",
    "    with torch.no_grad():\n",
    "\n",
    "        images = images.to(device)\n",
    "        images = model(images)\n",
    "        images = images.cpu()\n",
    "        images = to_img(images)\n",
    "        np_imagegrid = torchvision.utils.make_grid(images[1:50], 10, 5).numpy()\n",
    "        plt.imshow(np.transpose(np_imagegrid, (1, 2, 0)))\n",
    "        plt.show()\n",
    "\n",
    "images, labels = iter(test_dataloader).next()\n",
    "\n",
    "# First visualise the original images\n",
    "print('Original images')\n",
    "show_image(torchvision.utils.make_grid(images[1:50],10,5))\n",
    "plt.show()\n",
    "\n",
    "# Reconstruct and visualise the images using the autoencoder\n",
    "print('Autoencoder reconstruction:')\n",
    "visualise_output(images, autoencoder)"
   ]
  },
  {
   "cell_type": "markdown",
   "metadata": {
    "id": "jeGqUTBhzGbL"
   },
   "source": [
    "Interpolate in Latent Space\n",
    "----------------------------"
   ]
  },
  {
   "cell_type": "code",
   "execution_count": null,
   "metadata": {
    "id": "F67-X_i18TFV"
   },
   "outputs": [],
   "source": [
    "# autoencoder = standard_ae\n",
    "# autoencoder = linear_irmae\n",
    "# autoencoder = weight_share_irmae\n",
    "# autoencoder = fixed_irmae\n",
    "autoencoder = non_linear_irmae"
   ]
  },
  {
   "cell_type": "code",
   "execution_count": null,
   "metadata": {
    "colab": {
     "base_uri": "https://localhost:8080/",
     "height": 390
    },
    "id": "lqxOyjhEzGbP",
    "outputId": "00ed290a-56d0-4999-fde1-3c77afda1230"
   },
   "outputs": [
    {
     "data": {
      "image/png": "[encoded data removed]",
      "text/plain": [
       "<Figure size 1080x432 with 10 Axes>"
      ]
     },
     "metadata": {
      "needs_background": "light",
      "tags": []
     },
     "output_type": "display_data"
    }
   ],
   "source": [
    "autoencoder.eval()\n",
    "\n",
    "def interpolation(lambda1, model, img1, img2):\n",
    "    \n",
    "    with torch.no_grad():\n",
    "\n",
    "        # latent vector of first image\n",
    "        img1 = img1.to(device)\n",
    "        latent_1 = model.encoder(img1)\n",
    "        latent_1 = model.lnn(latent_1)\n",
    "        \n",
    "\n",
    "        # latent vector of second image\n",
    "        img2 = img2.to(device)\n",
    "        latent_2 = model.encoder(img2)\n",
    "        latent_2 = model.lnn(latent_2)\n",
    "\n",
    "        # interpolation of the two latent vectors\n",
    "        inter_latent = lambda1 * latent_1 + (1- lambda1) * latent_2\n",
    "\n",
    "        # reconstruct interpolated image\n",
    "        inter_image = model.decoder(inter_latent)\n",
    "        inter_image = inter_image.cpu()\n",
    "    \n",
    "    return inter_image\n",
    "    \n",
    "# sort part of test set by digit\n",
    "# digits = [[] for _ in range(10)]\n",
    "# for img_batch, label_batch in test_dataloader:\n",
    "#     for i in range(img_batch.size(0)):\n",
    "#         digits[label_batch[i]].append(img_batch[i:i+1])\n",
    "#     if sum(len(d) for d in digits) >= 1000:\n",
    "#         break;\n",
    "\n",
    "# interpolation lambdas\n",
    "lambda_range=np.linspace(0,1,10)\n",
    "\n",
    "fig, axs = plt.subplots(2,5, figsize=(15, 6))\n",
    "fig.subplots_adjust(hspace = .5, wspace=.001)\n",
    "axs = axs.ravel()\n",
    "\n",
    "\n",
    "for ind,l in enumerate(lambda_range):\n",
    "    inter_image=interpolation(float(l), autoencoder, digits[5][0], digits[2][0])\n",
    "  \n",
    "    inter_image = to_img(inter_image)\n",
    "    \n",
    "    image = inter_image.numpy()\n",
    "  \n",
    "    axs[ind].imshow(image[0,0,:,:], cmap='gray')\n",
    "    axs[ind].set_title('lambda_val='+str(round(l,1)))\n",
    "\n",
    "plt.show() "
   ]
  },
  {
   "cell_type": "markdown",
   "metadata": {},
   "source": [
    "Notebook Credits to :- https://github.com/smartgeometry-ucl/dl4g/blob/master/autoencoder.ipynb\n",
    "I built on top of their work to add linear neural network module\n",
    "\n",
    "#### - Dibya Prakash Das"
   ]
  },
  {
   "cell_type": "code",
   "execution_count": null,
   "metadata": {},
   "outputs": [],
   "source": []
  }
 ],
 "metadata": {
  "accelerator": "GPU",
  "colab": {
   "collapsed_sections": [],
   "name": "implementation_irmae.ipynb",
   "provenance": []
  },
  "kernelspec": {
   "display_name": "Python 3",
   "language": "python",
   "name": "python3"
  },
  "language_info": {
   "codemirror_mode": {
    "name": "ipython",
    "version": 3
   },
   "file_extension": ".py",
   "mimetype": "text/x-python",
   "name": "python",
   "nbconvert_exporter": "python",
   "pygments_lexer": "ipython3",
   "version": "3.7.2"
  },
  "widgets": {
   "application/vnd.jupyter.widget-state+json": {
    "06ea5ab863de41dc8099066da58c59d5": {
     "model_module": "@jupyter-widgets/controls",
     "model_name": "DescriptionStyleModel",
     "state": {
      "_model_module": "@jupyter-widgets/controls",
      "_model_module_version": "1.5.0",
      "_model_name": "DescriptionStyleModel",
      "_view_count": null,
      "_view_module": "@jupyter-widgets/base",
      "_view_module_version": "1.2.0",
      "_view_name": "StyleView",
      "description_width": ""
     }
    },
    "0906d27866d7403c91109ab4428e3d7b": {
     "model_module": "@jupyter-widgets/controls",
     "model_name": "FloatProgressModel",
     "state": {
      "_dom_classes": [],
      "_model_module": "@jupyter-widgets/controls",
      "_model_module_version": "1.5.0",
      "_model_name": "FloatProgressModel",
      "_view_count": null,
      "_view_module": "@jupyter-widgets/controls",
      "_view_module_version": "1.5.0",
      "_view_name": "ProgressView",
      "bar_style": "info",
      "description": "",
      "description_tooltip": null,
      "layout": "IPY_MODEL_92448b7cc80e4164b6e9412d50307321",
      "max": 1,
      "min": 0,
      "orientation": "horizontal",
      "style": "IPY_MODEL_9d5fb9db67804a29b71f642fc4498daa",
      "value": 1
     }
    },
    "0d7c8350e65f4467ab3a9ccc93574aff": {
     "model_module": "@jupyter-widgets/base",
     "model_name": "LayoutModel",
     "state": {
      "_model_module": "@jupyter-widgets/base",
      "_model_module_version": "1.2.0",
      "_model_name": "LayoutModel",
      "_view_count": null,
      "_view_module": "@jupyter-widgets/base",
      "_view_module_version": "1.2.0",
      "_view_name": "LayoutView",
      "align_content": null,
      "align_items": null,
      "align_self": null,
      "border": null,
      "bottom": null,
      "display": null,
      "flex": null,
      "flex_flow": null,
      "grid_area": null,
      "grid_auto_columns": null,
      "grid_auto_flow": null,
      "grid_auto_rows": null,
      "grid_column": null,
      "grid_gap": null,
      "grid_row": null,
      "grid_template_areas": null,
      "grid_template_columns": null,
      "grid_template_rows": null,
      "height": null,
      "justify_content": null,
      "justify_items": null,
      "left": null,
      "margin": null,
      "max_height": null,
      "max_width": null,
      "min_height": null,
      "min_width": null,
      "object_fit": null,
      "object_position": null,
      "order": null,
      "overflow": null,
      "overflow_x": null,
      "overflow_y": null,
      "padding": null,
      "right": null,
      "top": null,
      "visibility": null,
      "width": null
     }
    },
    "115bda2d481f4150a0c4559afe6d9700": {
     "model_module": "@jupyter-widgets/controls",
     "model_name": "HTMLModel",
     "state": {
      "_dom_classes": [],
      "_model_module": "@jupyter-widgets/controls",
      "_model_module_version": "1.5.0",
      "_model_name": "HTMLModel",
      "_view_count": null,
      "_view_module": "@jupyter-widgets/controls",
      "_view_module_version": "1.5.0",
      "_view_name": "HTMLView",
      "description": "",
      "description_tooltip": null,
      "layout": "IPY_MODEL_ffe2f31830764fdc88cf3371fd641e9f",
      "placeholder": "​",
      "style": "IPY_MODEL_8fb5d4e6dedb402eac1606a7798593a8",
      "value": " 1654784/? [00:03&lt;00:00, 461497.22it/s]"
     }
    },
    "15b04f0fa4d146608b1d41b2a4217199": {
     "model_module": "@jupyter-widgets/controls",
     "model_name": "HTMLModel",
     "state": {
      "_dom_classes": [],
      "_model_module": "@jupyter-widgets/controls",
      "_model_module_version": "1.5.0",
      "_model_name": "HTMLModel",
      "_view_count": null,
      "_view_module": "@jupyter-widgets/controls",
      "_view_module_version": "1.5.0",
      "_view_name": "HTMLView",
      "description": "",
      "description_tooltip": null,
      "layout": "IPY_MODEL_2ea20c9f4ca14152b4bf6fdeb6ab7435",
      "placeholder": "​",
      "style": "IPY_MODEL_06ea5ab863de41dc8099066da58c59d5",
      "value": " 0/28881 [00:00&lt;?, ?it/s]"
     }
    },
    "1ce8282bba0445da8124f0bbce8e4385": {
     "model_module": "@jupyter-widgets/base",
     "model_name": "LayoutModel",
     "state": {
      "_model_module": "@jupyter-widgets/base",
      "_model_module_version": "1.2.0",
      "_model_name": "LayoutModel",
      "_view_count": null,
      "_view_module": "@jupyter-widgets/base",
      "_view_module_version": "1.2.0",
      "_view_name": "LayoutView",
      "align_content": null,
      "align_items": null,
      "align_self": null,
      "border": null,
      "bottom": null,
      "display": null,
      "flex": null,
      "flex_flow": null,
      "grid_area": null,
      "grid_auto_columns": null,
      "grid_auto_flow": null,
      "grid_auto_rows": null,
      "grid_column": null,
      "grid_gap": null,
      "grid_row": null,
      "grid_template_areas": null,
      "grid_template_columns": null,
      "grid_template_rows": null,
      "height": null,
      "justify_content": null,
      "justify_items": null,
      "left": null,
      "margin": null,
      "max_height": null,
      "max_width": null,
      "min_height": null,
      "min_width": null,
      "object_fit": null,
      "object_position": null,
      "order": null,
      "overflow": null,
      "overflow_x": null,
      "overflow_y": null,
      "padding": null,
      "right": null,
      "top": null,
      "visibility": null,
      "width": null
     }
    },
    "1fe7bab411e944f98a7560d302f7dde6": {
     "model_module": "@jupyter-widgets/base",
     "model_name": "LayoutModel",
     "state": {
      "_model_module": "@jupyter-widgets/base",
      "_model_module_version": "1.2.0",
      "_model_name": "LayoutModel",
      "_view_count": null,
      "_view_module": "@jupyter-widgets/base",
      "_view_module_version": "1.2.0",
      "_view_name": "LayoutView",
      "align_content": null,
      "align_items": null,
      "align_self": null,
      "border": null,
      "bottom": null,
      "display": null,
      "flex": null,
      "flex_flow": null,
      "grid_area": null,
      "grid_auto_columns": null,
      "grid_auto_flow": null,
      "grid_auto_rows": null,
      "grid_column": null,
      "grid_gap": null,
      "grid_row": null,
      "grid_template_areas": null,
      "grid_template_columns": null,
      "grid_template_rows": null,
      "height": null,
      "justify_content": null,
      "justify_items": null,
      "left": null,
      "margin": null,
      "max_height": null,
      "max_width": null,
      "min_height": null,
      "min_width": null,
      "object_fit": null,
      "object_position": null,
      "order": null,
      "overflow": null,
      "overflow_x": null,
      "overflow_y": null,
      "padding": null,
      "right": null,
      "top": null,
      "visibility": null,
      "width": null
     }
    },
    "2e4fc693ad6c4acca1c33ae7cb0a8a7a": {
     "model_module": "@jupyter-widgets/controls",
     "model_name": "HTMLModel",
     "state": {
      "_dom_classes": [],
      "_model_module": "@jupyter-widgets/controls",
      "_model_module_version": "1.5.0",
      "_model_name": "HTMLModel",
      "_view_count": null,
      "_view_module": "@jupyter-widgets/controls",
      "_view_module_version": "1.5.0",
      "_view_name": "HTMLView",
      "description": "",
      "description_tooltip": null,
      "layout": "IPY_MODEL_f2d543e17f3b43b08d5304d017db10c2",
      "placeholder": "​",
      "style": "IPY_MODEL_a3c881e44f154ac9b89f362c1172e268",
      "value": " 9920512/? [00:20&lt;00:00, 1475705.88it/s]"
     }
    },
    "2ea20c9f4ca14152b4bf6fdeb6ab7435": {
     "model_module": "@jupyter-widgets/base",
     "model_name": "LayoutModel",
     "state": {
      "_model_module": "@jupyter-widgets/base",
      "_model_module_version": "1.2.0",
      "_model_name": "LayoutModel",
      "_view_count": null,
      "_view_module": "@jupyter-widgets/base",
      "_view_module_version": "1.2.0",
      "_view_name": "LayoutView",
      "align_content": null,
      "align_items": null,
      "align_self": null,
      "border": null,
      "bottom": null,
      "display": null,
      "flex": null,
      "flex_flow": null,
      "grid_area": null,
      "grid_auto_columns": null,
      "grid_auto_flow": null,
      "grid_auto_rows": null,
      "grid_column": null,
      "grid_gap": null,
      "grid_row": null,
      "grid_template_areas": null,
      "grid_template_columns": null,
      "grid_template_rows": null,
      "height": null,
      "justify_content": null,
      "justify_items": null,
      "left": null,
      "margin": null,
      "max_height": null,
      "max_width": null,
      "min_height": null,
      "min_width": null,
      "object_fit": null,
      "object_position": null,
      "order": null,
      "overflow": null,
      "overflow_x": null,
      "overflow_y": null,
      "padding": null,
      "right": null,
      "top": null,
      "visibility": null,
      "width": null
     }
    },
    "40adaaaeba9d4df4892cf36ec31ba998": {
     "model_module": "@jupyter-widgets/controls",
     "model_name": "HTMLModel",
     "state": {
      "_dom_classes": [],
      "_model_module": "@jupyter-widgets/controls",
      "_model_module_version": "1.5.0",
      "_model_name": "HTMLModel",
      "_view_count": null,
      "_view_module": "@jupyter-widgets/controls",
      "_view_module_version": "1.5.0",
      "_view_name": "HTMLView",
      "description": "",
      "description_tooltip": null,
      "layout": "IPY_MODEL_84e9f420c3344080b3c3bb04deefbe3c",
      "placeholder": "​",
      "style": "IPY_MODEL_def2131908884fcb921686e82b0a70c2",
      "value": " 8192/? [00:02&lt;00:00, 2845.91it/s]"
     }
    },
    "45de909d18b14603805e1d382a51b578": {
     "model_module": "@jupyter-widgets/controls",
     "model_name": "ProgressStyleModel",
     "state": {
      "_model_module": "@jupyter-widgets/controls",
      "_model_module_version": "1.5.0",
      "_model_name": "ProgressStyleModel",
      "_view_count": null,
      "_view_module": "@jupyter-widgets/base",
      "_view_module_version": "1.2.0",
      "_view_name": "StyleView",
      "bar_color": null,
      "description_width": "initial"
     }
    },
    "47b0f7485d524bdbb7c40c43b504ddf3": {
     "model_module": "@jupyter-widgets/controls",
     "model_name": "FloatProgressModel",
     "state": {
      "_dom_classes": [],
      "_model_module": "@jupyter-widgets/controls",
      "_model_module_version": "1.5.0",
      "_model_name": "FloatProgressModel",
      "_view_count": null,
      "_view_module": "@jupyter-widgets/controls",
      "_view_module_version": "1.5.0",
      "_view_name": "ProgressView",
      "bar_style": "success",
      "description": "",
      "description_tooltip": null,
      "layout": "IPY_MODEL_da9f6ee5ef594b6086b75add575526bf",
      "max": 1,
      "min": 0,
      "orientation": "horizontal",
      "style": "IPY_MODEL_9688d8a98a884ab48b0ca0e91c5d8fda",
      "value": 1
     }
    },
    "539787bb7865462a8de18b7f12ee2916": {
     "model_module": "@jupyter-widgets/controls",
     "model_name": "FloatProgressModel",
     "state": {
      "_dom_classes": [],
      "_model_module": "@jupyter-widgets/controls",
      "_model_module_version": "1.5.0",
      "_model_name": "FloatProgressModel",
      "_view_count": null,
      "_view_module": "@jupyter-widgets/controls",
      "_view_module_version": "1.5.0",
      "_view_name": "ProgressView",
      "bar_style": "success",
      "description": "",
      "description_tooltip": null,
      "layout": "IPY_MODEL_0d7c8350e65f4467ab3a9ccc93574aff",
      "max": 1,
      "min": 0,
      "orientation": "horizontal",
      "style": "IPY_MODEL_45de909d18b14603805e1d382a51b578",
      "value": 1
     }
    },
    "61bd7d6ad3eb45f79e738d1dcf6f41c7": {
     "model_module": "@jupyter-widgets/controls",
     "model_name": "HBoxModel",
     "state": {
      "_dom_classes": [],
      "_model_module": "@jupyter-widgets/controls",
      "_model_module_version": "1.5.0",
      "_model_name": "HBoxModel",
      "_view_count": null,
      "_view_module": "@jupyter-widgets/controls",
      "_view_module_version": "1.5.0",
      "_view_name": "HBoxView",
      "box_style": "",
      "children": [
       "IPY_MODEL_0906d27866d7403c91109ab4428e3d7b",
       "IPY_MODEL_2e4fc693ad6c4acca1c33ae7cb0a8a7a"
      ],
      "layout": "IPY_MODEL_1fe7bab411e944f98a7560d302f7dde6"
     }
    },
    "796064a7bf094957b36bdbd3dd815904": {
     "model_module": "@jupyter-widgets/base",
     "model_name": "LayoutModel",
     "state": {
      "_model_module": "@jupyter-widgets/base",
      "_model_module_version": "1.2.0",
      "_model_name": "LayoutModel",
      "_view_count": null,
      "_view_module": "@jupyter-widgets/base",
      "_view_module_version": "1.2.0",
      "_view_name": "LayoutView",
      "align_content": null,
      "align_items": null,
      "align_self": null,
      "border": null,
      "bottom": null,
      "display": null,
      "flex": null,
      "flex_flow": null,
      "grid_area": null,
      "grid_auto_columns": null,
      "grid_auto_flow": null,
      "grid_auto_rows": null,
      "grid_column": null,
      "grid_gap": null,
      "grid_row": null,
      "grid_template_areas": null,
      "grid_template_columns": null,
      "grid_template_rows": null,
      "height": null,
      "justify_content": null,
      "justify_items": null,
      "left": null,
      "margin": null,
      "max_height": null,
      "max_width": null,
      "min_height": null,
      "min_width": null,
      "object_fit": null,
      "object_position": null,
      "order": null,
      "overflow": null,
      "overflow_x": null,
      "overflow_y": null,
      "padding": null,
      "right": null,
      "top": null,
      "visibility": null,
      "width": null
     }
    },
    "7aa9abc8fb6d47e8bd34ac0652a1329f": {
     "model_module": "@jupyter-widgets/base",
     "model_name": "LayoutModel",
     "state": {
      "_model_module": "@jupyter-widgets/base",
      "_model_module_version": "1.2.0",
      "_model_name": "LayoutModel",
      "_view_count": null,
      "_view_module": "@jupyter-widgets/base",
      "_view_module_version": "1.2.0",
      "_view_name": "LayoutView",
      "align_content": null,
      "align_items": null,
      "align_self": null,
      "border": null,
      "bottom": null,
      "display": null,
      "flex": null,
      "flex_flow": null,
      "grid_area": null,
      "grid_auto_columns": null,
      "grid_auto_flow": null,
      "grid_auto_rows": null,
      "grid_column": null,
      "grid_gap": null,
      "grid_row": null,
      "grid_template_areas": null,
      "grid_template_columns": null,
      "grid_template_rows": null,
      "height": null,
      "justify_content": null,
      "justify_items": null,
      "left": null,
      "margin": null,
      "max_height": null,
      "max_width": null,
      "min_height": null,
      "min_width": null,
      "object_fit": null,
      "object_position": null,
      "order": null,
      "overflow": null,
      "overflow_x": null,
      "overflow_y": null,
      "padding": null,
      "right": null,
      "top": null,
      "visibility": null,
      "width": null
     }
    },
    "84e9f420c3344080b3c3bb04deefbe3c": {
     "model_module": "@jupyter-widgets/base",
     "model_name": "LayoutModel",
     "state": {
      "_model_module": "@jupyter-widgets/base",
      "_model_module_version": "1.2.0",
      "_model_name": "LayoutModel",
      "_view_count": null,
      "_view_module": "@jupyter-widgets/base",
      "_view_module_version": "1.2.0",
      "_view_name": "LayoutView",
      "align_content": null,
      "align_items": null,
      "align_self": null,
      "border": null,
      "bottom": null,
      "display": null,
      "flex": null,
      "flex_flow": null,
      "grid_area": null,
      "grid_auto_columns": null,
      "grid_auto_flow": null,
      "grid_auto_rows": null,
      "grid_column": null,
      "grid_gap": null,
      "grid_row": null,
      "grid_template_areas": null,
      "grid_template_columns": null,
      "grid_template_rows": null,
      "height": null,
      "justify_content": null,
      "justify_items": null,
      "left": null,
      "margin": null,
      "max_height": null,
      "max_width": null,
      "min_height": null,
      "min_width": null,
      "object_fit": null,
      "object_position": null,
      "order": null,
      "overflow": null,
      "overflow_x": null,
      "overflow_y": null,
      "padding": null,
      "right": null,
      "top": null,
      "visibility": null,
      "width": null
     }
    },
    "8fb5d4e6dedb402eac1606a7798593a8": {
     "model_module": "@jupyter-widgets/controls",
     "model_name": "DescriptionStyleModel",
     "state": {
      "_model_module": "@jupyter-widgets/controls",
      "_model_module_version": "1.5.0",
      "_model_name": "DescriptionStyleModel",
      "_view_count": null,
      "_view_module": "@jupyter-widgets/base",
      "_view_module_version": "1.2.0",
      "_view_name": "StyleView",
      "description_width": ""
     }
    },
    "92448b7cc80e4164b6e9412d50307321": {
     "model_module": "@jupyter-widgets/base",
     "model_name": "LayoutModel",
     "state": {
      "_model_module": "@jupyter-widgets/base",
      "_model_module_version": "1.2.0",
      "_model_name": "LayoutModel",
      "_view_count": null,
      "_view_module": "@jupyter-widgets/base",
      "_view_module_version": "1.2.0",
      "_view_name": "LayoutView",
      "align_content": null,
      "align_items": null,
      "align_self": null,
      "border": null,
      "bottom": null,
      "display": null,
      "flex": null,
      "flex_flow": null,
      "grid_area": null,
      "grid_auto_columns": null,
      "grid_auto_flow": null,
      "grid_auto_rows": null,
      "grid_column": null,
      "grid_gap": null,
      "grid_row": null,
      "grid_template_areas": null,
      "grid_template_columns": null,
      "grid_template_rows": null,
      "height": null,
      "justify_content": null,
      "justify_items": null,
      "left": null,
      "margin": null,
      "max_height": null,
      "max_width": null,
      "min_height": null,
      "min_width": null,
      "object_fit": null,
      "object_position": null,
      "order": null,
      "overflow": null,
      "overflow_x": null,
      "overflow_y": null,
      "padding": null,
      "right": null,
      "top": null,
      "visibility": null,
      "width": null
     }
    },
    "9688d8a98a884ab48b0ca0e91c5d8fda": {
     "model_module": "@jupyter-widgets/controls",
     "model_name": "ProgressStyleModel",
     "state": {
      "_model_module": "@jupyter-widgets/controls",
      "_model_module_version": "1.5.0",
      "_model_name": "ProgressStyleModel",
      "_view_count": null,
      "_view_module": "@jupyter-widgets/base",
      "_view_module_version": "1.2.0",
      "_view_name": "StyleView",
      "bar_color": null,
      "description_width": "initial"
     }
    },
    "9cde882ca3b44285869cd632bd8c1838": {
     "model_module": "@jupyter-widgets/controls",
     "model_name": "HBoxModel",
     "state": {
      "_dom_classes": [],
      "_model_module": "@jupyter-widgets/controls",
      "_model_module_version": "1.5.0",
      "_model_name": "HBoxModel",
      "_view_count": null,
      "_view_module": "@jupyter-widgets/controls",
      "_view_module_version": "1.5.0",
      "_view_name": "HBoxView",
      "box_style": "",
      "children": [
       "IPY_MODEL_539787bb7865462a8de18b7f12ee2916",
       "IPY_MODEL_115bda2d481f4150a0c4559afe6d9700"
      ],
      "layout": "IPY_MODEL_7aa9abc8fb6d47e8bd34ac0652a1329f"
     }
    },
    "9d5fb9db67804a29b71f642fc4498daa": {
     "model_module": "@jupyter-widgets/controls",
     "model_name": "ProgressStyleModel",
     "state": {
      "_model_module": "@jupyter-widgets/controls",
      "_model_module_version": "1.5.0",
      "_model_name": "ProgressStyleModel",
      "_view_count": null,
      "_view_module": "@jupyter-widgets/base",
      "_view_module_version": "1.2.0",
      "_view_name": "StyleView",
      "bar_color": null,
      "description_width": "initial"
     }
    },
    "a3c881e44f154ac9b89f362c1172e268": {
     "model_module": "@jupyter-widgets/controls",
     "model_name": "DescriptionStyleModel",
     "state": {
      "_model_module": "@jupyter-widgets/controls",
      "_model_module_version": "1.5.0",
      "_model_name": "DescriptionStyleModel",
      "_view_count": null,
      "_view_module": "@jupyter-widgets/base",
      "_view_module_version": "1.2.0",
      "_view_name": "StyleView",
      "description_width": ""
     }
    },
    "a9d78ab5f10545d1a8c5a42b26bc5055": {
     "model_module": "@jupyter-widgets/base",
     "model_name": "LayoutModel",
     "state": {
      "_model_module": "@jupyter-widgets/base",
      "_model_module_version": "1.2.0",
      "_model_name": "LayoutModel",
      "_view_count": null,
      "_view_module": "@jupyter-widgets/base",
      "_view_module_version": "1.2.0",
      "_view_name": "LayoutView",
      "align_content": null,
      "align_items": null,
      "align_self": null,
      "border": null,
      "bottom": null,
      "display": null,
      "flex": null,
      "flex_flow": null,
      "grid_area": null,
      "grid_auto_columns": null,
      "grid_auto_flow": null,
      "grid_auto_rows": null,
      "grid_column": null,
      "grid_gap": null,
      "grid_row": null,
      "grid_template_areas": null,
      "grid_template_columns": null,
      "grid_template_rows": null,
      "height": null,
      "justify_content": null,
      "justify_items": null,
      "left": null,
      "margin": null,
      "max_height": null,
      "max_width": null,
      "min_height": null,
      "min_width": null,
      "object_fit": null,
      "object_position": null,
      "order": null,
      "overflow": null,
      "overflow_x": null,
      "overflow_y": null,
      "padding": null,
      "right": null,
      "top": null,
      "visibility": null,
      "width": null
     }
    },
    "b9c98451e9bf44cbba7739d21297ff74": {
     "model_module": "@jupyter-widgets/controls",
     "model_name": "HBoxModel",
     "state": {
      "_dom_classes": [],
      "_model_module": "@jupyter-widgets/controls",
      "_model_module_version": "1.5.0",
      "_model_name": "HBoxModel",
      "_view_count": null,
      "_view_module": "@jupyter-widgets/controls",
      "_view_module_version": "1.5.0",
      "_view_name": "HBoxView",
      "box_style": "",
      "children": [
       "IPY_MODEL_47b0f7485d524bdbb7c40c43b504ddf3",
       "IPY_MODEL_40adaaaeba9d4df4892cf36ec31ba998"
      ],
      "layout": "IPY_MODEL_1ce8282bba0445da8124f0bbce8e4385"
     }
    },
    "c8384a2043f84b7c8ef1ac01cdb0e03f": {
     "model_module": "@jupyter-widgets/controls",
     "model_name": "FloatProgressModel",
     "state": {
      "_dom_classes": [],
      "_model_module": "@jupyter-widgets/controls",
      "_model_module_version": "1.5.0",
      "_model_name": "FloatProgressModel",
      "_view_count": null,
      "_view_module": "@jupyter-widgets/controls",
      "_view_module_version": "1.5.0",
      "_view_name": "ProgressView",
      "bar_style": "info",
      "description": "  0%",
      "description_tooltip": null,
      "layout": "IPY_MODEL_a9d78ab5f10545d1a8c5a42b26bc5055",
      "max": 1,
      "min": 0,
      "orientation": "horizontal",
      "style": "IPY_MODEL_fdc23a2ee7094379a1db41dc962fa9f9",
      "value": 0
     }
    },
    "cb20437f5c794eb9baa6491c51357707": {
     "model_module": "@jupyter-widgets/controls",
     "model_name": "HBoxModel",
     "state": {
      "_dom_classes": [],
      "_model_module": "@jupyter-widgets/controls",
      "_model_module_version": "1.5.0",
      "_model_name": "HBoxModel",
      "_view_count": null,
      "_view_module": "@jupyter-widgets/controls",
      "_view_module_version": "1.5.0",
      "_view_name": "HBoxView",
      "box_style": "",
      "children": [
       "IPY_MODEL_c8384a2043f84b7c8ef1ac01cdb0e03f",
       "IPY_MODEL_15b04f0fa4d146608b1d41b2a4217199"
      ],
      "layout": "IPY_MODEL_796064a7bf094957b36bdbd3dd815904"
     }
    },
    "da9f6ee5ef594b6086b75add575526bf": {
     "model_module": "@jupyter-widgets/base",
     "model_name": "LayoutModel",
     "state": {
      "_model_module": "@jupyter-widgets/base",
      "_model_module_version": "1.2.0",
      "_model_name": "LayoutModel",
      "_view_count": null,
      "_view_module": "@jupyter-widgets/base",
      "_view_module_version": "1.2.0",
      "_view_name": "LayoutView",
      "align_content": null,
      "align_items": null,
      "align_self": null,
      "border": null,
      "bottom": null,
      "display": null,
      "flex": null,
      "flex_flow": null,
      "grid_area": null,
      "grid_auto_columns": null,
      "grid_auto_flow": null,
      "grid_auto_rows": null,
      "grid_column": null,
      "grid_gap": null,
      "grid_row": null,
      "grid_template_areas": null,
      "grid_template_columns": null,
      "grid_template_rows": null,
      "height": null,
      "justify_content": null,
      "justify_items": null,
      "left": null,
      "margin": null,
      "max_height": null,
      "max_width": null,
      "min_height": null,
      "min_width": null,
      "object_fit": null,
      "object_position": null,
      "order": null,
      "overflow": null,
      "overflow_x": null,
      "overflow_y": null,
      "padding": null,
      "right": null,
      "top": null,
      "visibility": null,
      "width": null
     }
    },
    "def2131908884fcb921686e82b0a70c2": {
     "model_module": "@jupyter-widgets/controls",
     "model_name": "DescriptionStyleModel",
     "state": {
      "_model_module": "@jupyter-widgets/controls",
      "_model_module_version": "1.5.0",
      "_model_name": "DescriptionStyleModel",
      "_view_count": null,
      "_view_module": "@jupyter-widgets/base",
      "_view_module_version": "1.2.0",
      "_view_name": "StyleView",
      "description_width": ""
     }
    },
    "f2d543e17f3b43b08d5304d017db10c2": {
     "model_module": "@jupyter-widgets/base",
     "model_name": "LayoutModel",
     "state": {
      "_model_module": "@jupyter-widgets/base",
      "_model_module_version": "1.2.0",
      "_model_name": "LayoutModel",
      "_view_count": null,
      "_view_module": "@jupyter-widgets/base",
      "_view_module_version": "1.2.0",
      "_view_name": "LayoutView",
      "align_content": null,
      "align_items": null,
      "align_self": null,
      "border": null,
      "bottom": null,
      "display": null,
      "flex": null,
      "flex_flow": null,
      "grid_area": null,
      "grid_auto_columns": null,
      "grid_auto_flow": null,
      "grid_auto_rows": null,
      "grid_column": null,
      "grid_gap": null,
      "grid_row": null,
      "grid_template_areas": null,
      "grid_template_columns": null,
      "grid_template_rows": null,
      "height": null,
      "justify_content": null,
      "justify_items": null,
      "left": null,
      "margin": null,
      "max_height": null,
      "max_width": null,
      "min_height": null,
      "min_width": null,
      "object_fit": null,
      "object_position": null,
      "order": null,
      "overflow": null,
      "overflow_x": null,
      "overflow_y": null,
      "padding": null,
      "right": null,
      "top": null,
      "visibility": null,
      "width": null
     }
    },
    "fdc23a2ee7094379a1db41dc962fa9f9": {
     "model_module": "@jupyter-widgets/controls",
     "model_name": "ProgressStyleModel",
     "state": {
      "_model_module": "@jupyter-widgets/controls",
      "_model_module_version": "1.5.0",
      "_model_name": "ProgressStyleModel",
      "_view_count": null,
      "_view_module": "@jupyter-widgets/base",
      "_view_module_version": "1.2.0",
      "_view_name": "StyleView",
      "bar_color": null,
      "description_width": "initial"
     }
    },
    "ffe2f31830764fdc88cf3371fd641e9f": {
     "model_module": "@jupyter-widgets/base",
     "model_name": "LayoutModel",
     "state": {
      "_model_module": "@jupyter-widgets/base",
      "_model_module_version": "1.2.0",
      "_model_name": "LayoutModel",
      "_view_count": null,
      "_view_module": "@jupyter-widgets/base",
      "_view_module_version": "1.2.0",
      "_view_name": "LayoutView",
      "align_content": null,
      "align_items": null,
      "align_self": null,
      "border": null,
      "bottom": null,
      "display": null,
      "flex": null,
      "flex_flow": null,
      "grid_area": null,
      "grid_auto_columns": null,
      "grid_auto_flow": null,
      "grid_auto_rows": null,
      "grid_column": null,
      "grid_gap": null,
      "grid_row": null,
      "grid_template_areas": null,
      "grid_template_columns": null,
      "grid_template_rows": null,
      "height": null,
      "justify_content": null,
      "justify_items": null,
      "left": null,
      "margin": null,
      "max_height": null,
      "max_width": null,
      "min_height": null,
      "min_width": null,
      "object_fit": null,
      "object_position": null,
      "order": null,
      "overflow": null,
      "overflow_x": null,
      "overflow_y": null,
      "padding": null,
      "right": null,
      "top": null,
      "visibility": null,
      "width": null
     }
    }
   }
  }
 },
 "nbformat": 4,
 "nbformat_minor": 1
}
